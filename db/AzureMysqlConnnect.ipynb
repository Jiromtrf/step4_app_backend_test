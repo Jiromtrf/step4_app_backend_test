{
 "cells": [
  {
   "cell_type": "code",
   "execution_count": 1,
   "metadata": {},
   "outputs": [
    {
     "name": "stdout",
     "output_type": "stream",
     "text": [
      "Requirement already satisfied: mysql-connector-python in c:\\users\\kouji\\appdata\\local\\programs\\python\\python312\\lib\\site-packages (9.1.0)\n"
     ]
    },
    {
     "name": "stderr",
     "output_type": "stream",
     "text": [
      "\n",
      "[notice] A new release of pip is available: 24.0 -> 24.3.1\n",
      "[notice] To update, run: python.exe -m pip install --upgrade pip\n"
     ]
    },
    {
     "name": "stdout",
     "output_type": "stream",
     "text": [
      "Requirement already satisfied: SQLAlchemy in c:\\users\\kouji\\appdata\\local\\programs\\python\\python312\\lib\\site-packages (2.0.36)\n",
      "Requirement already satisfied: typing-extensions>=4.6.0 in c:\\users\\kouji\\appdata\\local\\programs\\python\\python312\\lib\\site-packages (from SQLAlchemy) (4.12.2)\n",
      "Requirement already satisfied: greenlet!=0.4.17 in c:\\users\\kouji\\appdata\\local\\programs\\python\\python312\\lib\\site-packages (from SQLAlchemy) (3.1.1)\n"
     ]
    },
    {
     "name": "stderr",
     "output_type": "stream",
     "text": [
      "\n",
      "[notice] A new release of pip is available: 24.0 -> 24.3.1\n",
      "[notice] To update, run: python.exe -m pip install --upgrade pip\n"
     ]
    },
    {
     "name": "stdout",
     "output_type": "stream",
     "text": [
      "Requirement already satisfied: pandas in c:\\users\\kouji\\appdata\\local\\programs\\python\\python312\\lib\\site-packages (2.2.3)\n",
      "Requirement already satisfied: numpy>=1.26.0 in c:\\users\\kouji\\appdata\\local\\programs\\python\\python312\\lib\\site-packages (from pandas) (2.1.2)\n",
      "Requirement already satisfied: python-dateutil>=2.8.2 in c:\\users\\kouji\\appdata\\roaming\\python\\python312\\site-packages (from pandas) (2.9.0.post0)\n",
      "Requirement already satisfied: pytz>=2020.1 in c:\\users\\kouji\\appdata\\local\\programs\\python\\python312\\lib\\site-packages (from pandas) (2024.2)\n",
      "Requirement already satisfied: tzdata>=2022.7 in c:\\users\\kouji\\appdata\\local\\programs\\python\\python312\\lib\\site-packages (from pandas) (2024.2)\n",
      "Requirement already satisfied: six>=1.5 in c:\\users\\kouji\\appdata\\local\\programs\\python\\python312\\lib\\site-packages (from python-dateutil>=2.8.2->pandas) (1.16.0)\n"
     ]
    },
    {
     "name": "stderr",
     "output_type": "stream",
     "text": [
      "\n",
      "[notice] A new release of pip is available: 24.0 -> 24.3.1\n",
      "[notice] To update, run: python.exe -m pip install --upgrade pip\n",
      "ERROR: Invalid requirement: '#'\n",
      "\n",
      "[notice] A new release of pip is available: 24.0 -> 24.3.1\n",
      "[notice] To update, run: python.exe -m pip install --upgrade pip\n"
     ]
    }
   ],
   "source": [
    "!pip install mysql-connector-python\n",
    "!pip install SQLAlchemy\n",
    "!pip install pandas\n",
    "!pip install bcrypt  # パスワードのハッシュ化に使用"
   ]
  },
  {
   "cell_type": "code",
   "execution_count": 5,
   "metadata": {},
   "outputs": [],
   "source": [
    "import os\n",
    "import pandas as pd\n",
    "from sqlalchemy import create_engine\n",
    "from sqlalchemy.engine.url import URL\n",
    "import bcrypt\n",
    "import mysql.connector\n",
    "from mysql.connector import errorcode"
   ]
  },
  {
   "cell_type": "code",
   "execution_count": 6,
   "metadata": {},
   "outputs": [],
   "source": [
    "# ポータルから接続文字列情報を取得する\n",
    "\n",
    "config = {\n",
    "  'host':'tech0-gen-7-step4-studentrdb-1.mysql.database.azure.com',\n",
    "  'user':'tech0gen7student',\n",
    "  'password':'F4XyhpicGw6P',\n",
    "  'database':'app_db',\n",
    "  'client_flags': [mysql.connector.ClientFlag.SSL],\n",
    "  'ssl_ca': '/DigiCertGlobalRootCA.crt.pem'\n",
    "}\n"
   ]
  },
  {
   "cell_type": "code",
   "execution_count": 7,
   "metadata": {},
   "outputs": [
    {
     "name": "stdout",
     "output_type": "stream",
     "text": [
      "接続成功\n"
     ]
    }
   ],
   "source": [
    "# DB接続確認\n",
    "\n",
    "try:\n",
    "   conn = mysql.connector.connect(**config)\n",
    "   print(\"接続成功\")\n",
    "except mysql.connector.Error as err:\n",
    "  if err.errno == errorcode.ER_ACCESS_DENIED_ERROR:\n",
    "    print(\"ユーザー名またはパスワードが間違っています\")\n",
    "  elif err.errno == errorcode.ER_BAD_DB_ERROR:\n",
    "    print(\"データベースが存在しません\")\n",
    "  else:\n",
    "    print(err)\n",
    "else:\n",
    "  cursor = conn.cursor()"
   ]
  },
  {
   "cell_type": "code",
   "execution_count": 8,
   "metadata": {},
   "outputs": [
    {
     "name": "stdout",
     "output_type": "stream",
     "text": [
      "user_master テーブルの内容:\n",
      "('1', 'マサル', '$2b$12$/4QDDK2.fA7EBID5M.MqWuTRQT1w3vnGkYuhgBu8zGSB6kYLvhmGe')\n",
      "('2', 'じろー', '$2b$12$yL2BD0bvjjNccR2KrS/EoO9hyzNQTF.jyXptp0OvphsZYcLMe1oma')\n",
      "('3', 'くが', '$2b$12$dG1s6/mbI8N23w82X8yJvOX8Z5HMOS3GysK.RDBE/T9TfJ/ns4ULu')\n",
      "('4', 'ふるさん', '$2b$12$ruWOWoQLYrtO9YOEA91A5elCtiXYLSJVaSVj8qQtEPnMROLFtoKl6')\n"
     ]
    }
   ],
   "source": [
    "# user_masterテーブルの内容を取得\n",
    "cursor.execute(\"SELECT * FROM user_master\")\n",
    "\n",
    "# 結果を取得\n",
    "rows = cursor.fetchall()\n",
    "\n",
    "# 結果を表示\n",
    "print(\"user_master テーブルの内容:\")\n",
    "for row in rows:\n",
    "    print(row)\n"
   ]
  },
  {
   "cell_type": "code",
   "execution_count": 9,
   "metadata": {},
   "outputs": [
    {
     "name": "stdout",
     "output_type": "stream",
     "text": [
      "\n",
      "status_table テーブルの内容:\n",
      "(1, '1', 80, 70, 60)\n",
      "(2, '2', 50, 60, 90)\n",
      "(3, '3', 70, 80, 40)\n",
      "(4, '4', 90, 85, 75)\n"
     ]
    }
   ],
   "source": [
    "# status_tableテーブルの内容を取得\n",
    "cursor.execute(\"SELECT * FROM status_table\")\n",
    "\n",
    "# 結果を取得\n",
    "rows = cursor.fetchall()\n",
    "\n",
    "# 結果を表示\n",
    "print(\"\\nstatus_table テーブルの内容:\")\n",
    "for row in rows:\n",
    "    print(row)"
   ]
  },
  {
   "cell_type": "code",
   "execution_count": 10,
   "metadata": {},
   "outputs": [
    {
     "name": "stdout",
     "output_type": "stream",
     "text": [
      "\n",
      "user_master テーブルのユーザー 1 の情報:\n",
      "('1', 'マサル', '$2b$12$/4QDDK2.fA7EBID5M.MqWuTRQT1w3vnGkYuhgBu8zGSB6kYLvhmGe')\n",
      "\n",
      "status_table テーブルのユーザー 1 のステータス:\n",
      "(1, '1', 80, 70, 60)\n"
     ]
    }
   ],
   "source": [
    "user_id = '1'\n",
    "\n",
    "# user_masterテーブルから特定のユーザーを取得\n",
    "cursor.execute(\"SELECT * FROM user_master WHERE user_id = %s\", (user_id,))\n",
    "user = cursor.fetchone()\n",
    "\n",
    "if user:\n",
    "    print(f\"\\nuser_master テーブルのユーザー {user_id} の情報:\")\n",
    "    print(user)\n",
    "else:\n",
    "    print(f\"\\nuser_master テーブルにユーザー {user_id} は存在しません。\")\n",
    "\n",
    "# status_tableテーブルから特定のユーザーのステータスを取得\n",
    "cursor.execute(\"SELECT * FROM status_table WHERE user_id = %s\", (user_id,))\n",
    "status = cursor.fetchone()\n",
    "\n",
    "if status:\n",
    "    print(f\"\\nstatus_table テーブルのユーザー {user_id} のステータス:\")\n",
    "    print(status)\n",
    "else:\n",
    "    print(f\"\\nstatus_table テーブルにユーザー {user_id} のステータスは存在しません。\")\n"
   ]
  },
  {
   "cell_type": "code",
   "execution_count": 11,
   "metadata": {},
   "outputs": [
    {
     "name": "stdout",
     "output_type": "stream",
     "text": [
      "user_masterテーブル:\n",
      "  user_id  name                                           password\n",
      "0       1   マサル  $2b$12$/4QDDK2.fA7EBID5M.MqWuTRQT1w3vnGkYuhgBu...\n",
      "1       2   じろー  $2b$12$yL2BD0bvjjNccR2KrS/EoO9hyzNQTF.jyXptp0O...\n",
      "2       3    くが  $2b$12$dG1s6/mbI8N23w82X8yJvOX8Z5HMOS3GysK.RDB...\n",
      "3       4  ふるさん  $2b$12$ruWOWoQLYrtO9YOEA91A5elCtiXYLSJVaSVj8qQ...\n",
      "\n",
      "status_tableテーブル:\n",
      "   id user_id  biz  design  tech\n",
      "0   1       1   80      70    60\n",
      "1   2       2   50      60    90\n",
      "2   3       3   70      80    40\n",
      "3   4       4   90      85    75\n"
     ]
    }
   ],
   "source": [
    "import pandas as pd\n",
    "from sqlalchemy import create_engine\n",
    "\n",
    "# 接続情報を設定\n",
    "DATABASE_CONFIG = {\n",
    "    'drivername': 'mysql+mysqlconnector',\n",
    "    'host': 'tech0-gen-7-step4-studentrdb-1.mysql.database.azure.com',\n",
    "    'port': '3306',\n",
    "    'username': 'tech0gen7student',\n",
    "    'password': 'F4XyhpicGw6P',\n",
    "    'database': 'app_db',\n",
    "    'query': {'ssl_ca': '/DigiCertGlobalRootCA.crt.pem'}\n",
    "}\n",
    "\n",
    "# SQLAlchemyエンジンを作成\n",
    "engine = create_engine(URL.create(**DATABASE_CONFIG))\n",
    "\n",
    "# テーブルデータの確認\n",
    "try:\n",
    "    with engine.connect() as connection:\n",
    "        # テーブルuser_masterをデータフレームに読み込む\n",
    "        user_master_df = pd.read_sql('SELECT * FROM user_master', connection)\n",
    "        print(\"user_masterテーブル:\")\n",
    "        print(user_master_df)\n",
    "        \n",
    "        # テーブルstatus_tableをデータフレームに読み込む\n",
    "        status_table_df = pd.read_sql('SELECT * FROM status_table', connection)\n",
    "        print(\"\\nstatus_tableテーブル:\")\n",
    "        print(status_table_df)\n",
    "except Exception as e:\n",
    "    print(\"エラー:\", e)\n"
   ]
  },
  {
   "cell_type": "code",
   "execution_count": 12,
   "metadata": {},
   "outputs": [
    {
     "name": "stdout",
     "output_type": "stream",
     "text": [
      "テーブル 'user_master' を 'user_master.csv' にエクスポートしました。\n",
      "テーブル 'status_table' を 'status_table.csv' にエクスポートしました。\n"
     ]
    }
   ],
   "source": [
    "# CSVにエクスポートする関数\n",
    "def export_table_to_csv(table_name, output_file):\n",
    "    try:\n",
    "        with engine.connect() as connection:\n",
    "            # テーブルデータを読み込み\n",
    "            df = pd.read_sql(f'SELECT * FROM {table_name}', connection)\n",
    "            # データをCSVファイルに保存\n",
    "            df.to_csv(output_file, index=False, encoding='utf-8-sig')\n",
    "            print(f\"テーブル '{table_name}' を '{output_file}' にエクスポートしました。\")\n",
    "    except Exception as e:\n",
    "        print(f\"エラー: テーブル '{table_name}' のエクスポートに失敗しました: {e}\")\n",
    "\n",
    "# 各テーブルをCSVにエクスポート\n",
    "export_table_to_csv('user_master', 'user_master.csv')\n",
    "export_table_to_csv('status_table', 'status_table.csv')"
   ]
  }
 ],
 "metadata": {
  "kernelspec": {
   "display_name": "Python 3",
   "language": "python",
   "name": "python3"
  },
  "language_info": {
   "codemirror_mode": {
    "name": "ipython",
    "version": 3
   },
   "file_extension": ".py",
   "mimetype": "text/x-python",
   "name": "python",
   "nbconvert_exporter": "python",
   "pygments_lexer": "ipython3",
   "version": "3.12.4"
  }
 },
 "nbformat": 4,
 "nbformat_minor": 2
}
